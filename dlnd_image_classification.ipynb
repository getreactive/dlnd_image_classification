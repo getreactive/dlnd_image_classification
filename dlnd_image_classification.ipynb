{
 "cells": [
  {
   "cell_type": "markdown",
   "metadata": {
    "collapsed": true
   },
   "source": [
    "# Image Classification\n",
    "In this project, you'll classify images from the [CIFAR-10 dataset](https://www.cs.toronto.edu/~kriz/cifar.html).  The dataset consists of airplanes, dogs, cats, and other objects. You'll preprocess the images, then train a convolutional neural network on all the samples. The images need to be normalized and the labels need to be one-hot encoded.  You'll get to apply what you learned and build a convolutional, max pooling, dropout, and fully connected layers.  At the end, you'll get to see your neural network's predictions on the sample images.\n",
    "## Get the Data\n",
    "Run the following cell to download the [CIFAR-10 dataset for python](https://www.cs.toronto.edu/~kriz/cifar-10-python.tar.gz)."
   ]
  },
  {
   "cell_type": "code",
   "execution_count": 1,
   "metadata": {},
   "outputs": [
    {
     "name": "stdout",
     "output_type": "stream",
     "text": [
      "All files found!\n"
     ]
    }
   ],
   "source": [
    "\"\"\"\n",
    "DON'T MODIFY ANYTHING IN THIS CELL THAT IS BELOW THIS LINE\n",
    "\"\"\"\n",
    "from urllib.request import urlretrieve\n",
    "from os.path import isfile, isdir\n",
    "from tqdm import tqdm\n",
    "import problem_unittests as tests\n",
    "import tarfile\n",
    "\n",
    "cifar10_dataset_folder_path = 'cifar-10-batches-py'\n",
    "\n",
    "# Use Floyd's cifar-10 dataset if present\n",
    "floyd_cifar10_location = '/input/cifar-10/python.tar.gz'\n",
    "if isfile(floyd_cifar10_location):\n",
    "    tar_gz_path = floyd_cifar10_location\n",
    "else:\n",
    "    tar_gz_path = 'cifar-10-python.tar.gz'\n",
    "\n",
    "class DLProgress(tqdm):\n",
    "    last_block = 0\n",
    "\n",
    "    def hook(self, block_num=1, block_size=1, total_size=None):\n",
    "        self.total = total_size\n",
    "        self.update((block_num - self.last_block) * block_size)\n",
    "        self.last_block = block_num\n",
    "\n",
    "if not isfile(tar_gz_path):\n",
    "    with DLProgress(unit='B', unit_scale=True, miniters=1, desc='CIFAR-10 Dataset') as pbar:\n",
    "        urlretrieve(\n",
    "            'https://www.cs.toronto.edu/~kriz/cifar-10-python.tar.gz',\n",
    "            tar_gz_path,\n",
    "            pbar.hook)\n",
    "\n",
    "if not isdir(cifar10_dataset_folder_path):\n",
    "    with tarfile.open(tar_gz_path) as tar:\n",
    "        tar.extractall()\n",
    "        tar.close()\n",
    "\n",
    "\n",
    "tests.test_folder_path(cifar10_dataset_folder_path)"
   ]
  },
  {
   "cell_type": "markdown",
   "metadata": {},
   "source": [
    "## Explore the Data\n",
    "The dataset is broken into batches to prevent your machine from running out of memory.  The CIFAR-10 dataset consists of 5 batches, named `data_batch_1`, `data_batch_2`, etc.. Each batch contains the labels and images that are one of the following:\n",
    "* airplane\n",
    "* automobile\n",
    "* bird\n",
    "* cat\n",
    "* deer\n",
    "* dog\n",
    "* frog\n",
    "* horse\n",
    "* ship\n",
    "* truck\n",
    "\n",
    "Understanding a dataset is part of making predictions on the data.  Play around with the code cell below by changing the `batch_id` and `sample_id`. The `batch_id` is the id for a batch (1-5). The `sample_id` is the id for a image and label pair in the batch.\n",
    "\n",
    "Ask yourself \"What are all possible labels?\", \"What is the range of values for the image data?\", \"Are the labels in order or random?\".  Answers to questions like these will help you preprocess the data and end up with better predictions."
   ]
  },
  {
   "cell_type": "code",
   "execution_count": 2,
   "metadata": {},
   "outputs": [
    {
     "name": "stdout",
     "output_type": "stream",
     "text": [
      "\n",
      "Stats of batch 1:\n",
      "Samples: 10000\n",
      "Label Counts: {0: 1005, 1: 974, 2: 1032, 3: 1016, 4: 999, 5: 937, 6: 1030, 7: 1001, 8: 1025, 9: 981}\n",
      "First 20 Labels: [6, 9, 9, 4, 1, 1, 2, 7, 8, 3, 4, 7, 7, 2, 9, 9, 9, 3, 2, 6]\n",
      "\n",
      "Example of Image 5:\n",
      "Image - Min Value: 0 Max Value: 252\n",
      "Image - Shape: (32, 32, 3)\n",
      "Label - Label Id: 1 Name: automobile\n"
     ]
    },
    {
     "data": {
      "image/png": "[encoded data removed]",
      "text/plain": [
       "<matplotlib.figure.Figure at 0x119a5a358>"
      ]
     },
     "metadata": {
      "image/png": {
       "height": 250,
       "width": 253
      }
     },
     "output_type": "display_data"
    }
   ],
   "source": [
    "%matplotlib inline\n",
    "%config InlineBackend.figure_format = 'retina'\n",
    "\n",
    "import helper\n",
    "import numpy as np\n",
    "\n",
    "# Explore the dataset\n",
    "batch_id = 1\n",
    "sample_id = 5\n",
    "helper.display_stats(cifar10_dataset_folder_path, batch_id, sample_id)"
   ]
  },
  {
   "cell_type": "markdown",
   "metadata": {},
   "source": [
    "## Implement Preprocess Functions\n",
    "### Normalize\n",
    "In the cell below, implement the `normalize` function to take in image data, `x`, and return it as a normalized Numpy array. The values should be in the range of 0 to 1, inclusive.  The return object should be the same shape as `x`."
   ]
  },
  {
   "cell_type": "code",
   "execution_count": 3,
   "metadata": {},
   "outputs": [
    {
     "name": "stdout",
     "output_type": "stream",
     "text": [
      "Tests Passed\n"
     ]
    }
   ],
   "source": [
    "def normalize(x):\n",
    "    \"\"\"\n",
    "    Normalize a list of sample image data in the range of 0 to 1\n",
    "    : x: List of image data.  The image shape is (32, 32, 3)\n",
    "    : return: Numpy array of normalize data\n",
    "    \"\"\"\n",
    "    normalized_x = np.zeros(tuple(x.shape))\n",
    "    nr_images = x.shape[0]\n",
    "    # Compute max/min values.\n",
    "    max_val, min_val = x.max(), x.min()\n",
    "    # Transform every image.\n",
    "    for image_index in range(nr_images):\n",
    "        normalized_x[image_index,...] = (x[image_index, ...] - float(min_val)) / float(max_val - min_val)    \n",
    "    return normalized_x\n",
    "\"\"\"\n",
    "DON'T MODIFY ANYTHING IN THIS CELL THAT IS BELOW THIS LINE\n",
    "\"\"\"\n",
    "tests.test_normalize(normalize)"
   ]
  },
  {
   "cell_type": "markdown",
   "metadata": {},
   "source": [
    "### One-hot encode\n",
    "Just like the previous code cell, you'll be implementing a function for preprocessing.  This time, you'll implement the `one_hot_encode` function. The input, `x`, are a list of labels.  Implement the function to return the list of labels as One-Hot encoded Numpy array.  The possible values for labels are 0 to 9. The one-hot encoding function should return the same encoding for each value between each call to `one_hot_encode`.  Make sure to save the map of encodings outside the function.\n",
    "\n",
    "Hint: Don't reinvent the wheel."
   ]
  },
  {
   "cell_type": "code",
   "execution_count": 4,
   "metadata": {},
   "outputs": [
    {
     "name": "stdout",
     "output_type": "stream",
     "text": [
      "Tests Passed\n"
     ]
    }
   ],
   "source": [
    "def one_hot_encode(x, n_values=10):\n",
    "    \"\"\"\n",
    "    One hot encode a list of sample labels. Return a one-hot encoded vector for each label.\n",
    "    : x: List of sample Labels\n",
    "    : return: Numpy array of one-hot encoded labels\n",
    "    \"\"\"\n",
    "    from sklearn.preprocessing import OneHotEncoder\n",
    "    enc = OneHotEncoder(n_values=n_values)    \n",
    "    one_hot_encoded_labels = enc.fit_transform(np.array(x).reshape(-1, 1)).toarray()\n",
    "    return one_hot_encoded_labels\n",
    "\n",
    "\"\"\"\n",
    "DON'T MODIFY ANYTHING IN THIS CELL THAT IS BELOW THIS LINE\n",
    "\"\"\"\n",
    "tests.test_one_hot_encode(one_hot_encode)"
   ]
  },
  {
   "cell_type": "markdown",
   "metadata": {},
   "source": [
    "### Randomize Data\n",
    "As you saw from exploring the data above, the order of the samples are randomized.  It doesn't hurt to randomize it again, but you don't need to for this dataset."
   ]
  },
  {
   "cell_type": "markdown",
   "metadata": {},
   "source": [
    "## Preprocess all the data and save it\n",
    "Running the code cell below will preprocess all the CIFAR-10 data and save it to file. The code below also uses 10% of the training data for validation."
   ]
  },
  {
   "cell_type": "code",
   "execution_count": 5,
   "metadata": {
    "collapsed": true
   },
   "outputs": [],
   "source": [
    "\"\"\"\n",
    "DON'T MODIFY ANYTHING IN THIS CELL\n",
    "\"\"\"\n",
    "# Preprocess Training, Validation, and Testing Data\n",
    "helper.preprocess_and_save_data(cifar10_dataset_folder_path, normalize, one_hot_encode)"
   ]
  },
  {
   "cell_type": "markdown",
   "metadata": {},
   "source": [
    "# Check Point\n",
    "This is your first checkpoint.  If you ever decide to come back to this notebook or have to restart the notebook, you can start from here.  The preprocessed data has been saved to disk."
   ]
  },
  {
   "cell_type": "code",
   "execution_count": 7,
   "metadata": {
    "collapsed": true
   },
   "outputs": [],
   "source": [
    "\"\"\"\n",
    "DON'T MODIFY ANYTHING IN THIS CELL\n",
    "\"\"\"\n",
    "import pickle\n",
    "import problem_unittests as tests\n",
    "import helper\n",
    "\n",
    "# Load the Preprocessed Validation data\n",
    "valid_features, valid_labels = pickle.load(open('preprocess_validation.p', mode='rb'))"
   ]
  },
  {
   "cell_type": "markdown",
   "metadata": {},
   "source": [
    "## Build the network\n",
    "For the neural network, you'll build each layer into a function.  Most of the code you've seen has been outside of functions. To test your code more thoroughly, we require that you put each layer in a function.  This allows us to give you better feedback and test for simple mistakes using our unittests before you submit your project.\n",
    "\n",
    ">**Note:** If you're finding it hard to dedicate enough time for this course each week, we've provided a small shortcut to this part of the project. In the next couple of problems, you'll have the option to use classes from the [TensorFlow Layers](https://www.tensorflow.org/api_docs/python/tf/layers) or [TensorFlow Layers (contrib)](https://www.tensorflow.org/api_guides/python/contrib.layers) packages to build each layer, except the layers you build in the \"Convolutional and Max Pooling Layer\" section.  TF Layers is similar to Keras's and TFLearn's abstraction to layers, so it's easy to pickup.\n",
    "\n",
    ">However, if you would like to get the most out of this course, try to solve all the problems _without_ using anything from the TF Layers packages. You **can** still use classes from other packages that happen to have the same name as ones you find in TF Layers! For example, instead of using the TF Layers version of the `conv2d` class, [tf.layers.conv2d](https://www.tensorflow.org/api_docs/python/tf/layers/conv2d), you would want to use the TF Neural Network version of `conv2d`, [tf.nn.conv2d](https://www.tensorflow.org/api_docs/python/tf/nn/conv2d). \n",
    "\n",
    "Let's begin!\n",
    "\n",
    "### Input\n",
    "The neural network needs to read the image data, one-hot encoded labels, and dropout keep probability. Implement the following functions\n",
    "* Implement `neural_net_image_input`\n",
    " * Return a [TF Placeholder](https://www.tensorflow.org/api_docs/python/tf/placeholder)\n",
    " * Set the shape using `image_shape` with batch size set to `None`.\n",
    " * Name the TensorFlow placeholder \"x\" using the TensorFlow `name` parameter in the [TF Placeholder](https://www.tensorflow.org/api_docs/python/tf/placeholder).\n",
    "* Implement `neural_net_label_input`\n",
    " * Return a [TF Placeholder](https://www.tensorflow.org/api_docs/python/tf/placeholder)\n",
    " * Set the shape using `n_classes` with batch size set to `None`.\n",
    " * Name the TensorFlow placeholder \"y\" using the TensorFlow `name` parameter in the [TF Placeholder](https://www.tensorflow.org/api_docs/python/tf/placeholder).\n",
    "* Implement `neural_net_keep_prob_input`\n",
    " * Return a [TF Placeholder](https://www.tensorflow.org/api_docs/python/tf/placeholder) for dropout keep probability.\n",
    " * Name the TensorFlow placeholder \"keep_prob\" using the TensorFlow `name` parameter in the [TF Placeholder](https://www.tensorflow.org/api_docs/python/tf/placeholder).\n",
    "\n",
    "These names will be used at the end of the project to load your saved model.\n",
    "\n",
    "Note: `None` for shapes in TensorFlow allow for a dynamic size."
   ]
  },
  {
   "cell_type": "code",
   "execution_count": 8,
   "metadata": {},
   "outputs": [
    {
     "name": "stdout",
     "output_type": "stream",
     "text": [
      "Image Input Tests Passed.\n",
      "Label Input Tests Passed.\n",
      "Keep Prob Tests Passed.\n"
     ]
    }
   ],
   "source": [
    "import tensorflow as tf\n",
    "\n",
    "def neural_net_image_input(image_shape):\n",
    "    \"\"\"\n",
    "    Return a Tensor for a batch of image input\n",
    "    : image_shape: Shape of the images\n",
    "    : return: Tensor for image input.\n",
    "    \"\"\"\n",
    "    # TODO: Implement Function\n",
    "    return tf.placeholder(tf.float32, shape=((None,) + image_shape), name='x')\n",
    "\n",
    "\n",
    "def neural_net_label_input(n_classes):\n",
    "    \"\"\"\n",
    "    Return a Tensor for a batch of label input\n",
    "    : n_classes: Number of classes\n",
    "    : return: Tensor for label input.\n",
    "    \"\"\"\n",
    "    # TODO: Implement Function\n",
    "    return tf.placeholder(tf.float32, shape=(None, n_classes), name='y')\n",
    "\n",
    "\n",
    "def neural_net_keep_prob_input():\n",
    "    \"\"\"\n",
    "    Return a Tensor for keep probability\n",
    "    : return: Tensor for keep probability.\n",
    "    \"\"\"\n",
    "    # TODO: Implement Function\n",
    "    return tf.placeholder(tf.float32, shape=(None), name='keep_prob')\n",
    "\n",
    "\n",
    "\"\"\"\n",
    "DON'T MODIFY ANYTHING IN THIS CELL THAT IS BELOW THIS LINE\n",
    "\"\"\"\n",
    "tf.reset_default_graph()\n",
    "tests.test_nn_image_inputs(neural_net_image_input)\n",
    "tests.test_nn_label_inputs(neural_net_label_input)\n",
    "tests.test_nn_keep_prob_inputs(neural_net_keep_prob_input)"
   ]
  },
  {
   "cell_type": "markdown",
   "metadata": {},
   "source": [
    "### Convolution and Max Pooling Layer\n",
    "Convolution layers have a lot of success with images. For this code cell, you should implement the function `conv2d_maxpool` to apply convolution then max pooling:\n",
    "* Create the weight and bias using `conv_ksize`, `conv_num_outputs` and the shape of `x_tensor`.\n",
    "* Apply a convolution to `x_tensor` using weight and `conv_strides`.\n",
    " * We recommend you use same padding, but you're welcome to use any padding.\n",
    "* Add bias\n",
    "* Add a nonlinear activation to the convolution.\n",
    "* Apply Max Pooling using `pool_ksize` and `pool_strides`.\n",
    " * We recommend you use same padding, but you're welcome to use any padding.\n",
    "\n",
    "**Note:** You **can't** use [TensorFlow Layers](https://www.tensorflow.org/api_docs/python/tf/layers) or [TensorFlow Layers (contrib)](https://www.tensorflow.org/api_guides/python/contrib.layers) for **this** layer, but you can still use TensorFlow's [Neural Network](https://www.tensorflow.org/api_docs/python/tf/nn) package. You may still use the shortcut option for all the **other** layers."
   ]
  },
  {
   "cell_type": "code",
   "execution_count": 9,
   "metadata": {},
   "outputs": [
    {
     "name": "stdout",
     "output_type": "stream",
     "text": [
      "Tests Passed\n"
     ]
    }
   ],
   "source": [
    "def conv2d_maxpool(x_tensor, conv_num_outputs, conv_ksize, conv_strides, pool_ksize, pool_strides):\n",
    "    \"\"\"\n",
    "    Apply convolution then max pooling to x_tensor\n",
    "    :param x_tensor: TensorFlow Tensor\n",
    "    :param conv_num_outputs: Number of outputs for the convolutional layer\n",
    "    :param conv_ksize: kernal size 2-D Tuple for the convolutional layer\n",
    "    :param conv_strides: Stride 2-D Tuple for convolution\n",
    "    :param pool_ksize: kernal size 2-D Tuple for pool\n",
    "    :param pool_strides: Stride 2-D Tuple for pool\n",
    "    : return: A tensor that represents convolution and max pooling of x_tensor\n",
    "    \"\"\"\n",
    "    weights_shape = list(conv_ksize) + [x_tensor.get_shape().as_list()[3], conv_num_outputs]\n",
    "    # Define our trainable variables.\n",
    "    weights = tf.Variable(tf.truncated_normal(weights_shape, stddev=5e-2))\n",
    "    bias = tf.Variable(tf.zeros(conv_num_outputs))\n",
    "    \n",
    "    # 2D Convolution Layer.\n",
    "    output = tf.nn.conv2d(x_tensor, weights, \n",
    "                          strides=[1, conv_strides[0], conv_strides[1], 1],\n",
    "                          padding='SAME')\n",
    "    output = tf.nn.bias_add(output, bias)\n",
    "    output = tf.nn.relu(output)\n",
    "    \n",
    "    # Pooling layer.\n",
    "    output = tf.nn.max_pool(output, \n",
    "                            ksize=[1, pool_ksize[0], pool_ksize[1], 1], \n",
    "                            strides=[1, pool_strides[0], pool_strides[1], 1],\n",
    "                            padding='SAME')                                  \n",
    "    return output\n",
    "\n",
    "\n",
    "\"\"\"\n",
    "DON'T MODIFY ANYTHING IN THIS CELL THAT IS BELOW THIS LINE\n",
    "\"\"\"\n",
    "tests.test_con_pool(conv2d_maxpool)"
   ]
  },
  {
   "cell_type": "markdown",
   "metadata": {},
   "source": [
    "### Flatten Layer\n",
    "Implement the `flatten` function to change the dimension of `x_tensor` from a 4-D tensor to a 2-D tensor.  The output should be the shape (*Batch Size*, *Flattened Image Size*). Shortcut option: you can use classes from the [TensorFlow Layers](https://www.tensorflow.org/api_docs/python/tf/layers) or [TensorFlow Layers (contrib)](https://www.tensorflow.org/api_guides/python/contrib.layers) packages for this layer. For more of a challenge, only use other TensorFlow packages."
   ]
  },
  {
   "cell_type": "code",
   "execution_count": 10,
   "metadata": {},
   "outputs": [
    {
     "name": "stdout",
     "output_type": "stream",
     "text": [
      "Tests Passed\n"
     ]
    }
   ],
   "source": [
    "def flatten(x_tensor):\n",
    "    \"\"\"\n",
    "    Flatten x_tensor to (Batch Size, Flattened Image Size)\n",
    "    : x_tensor: A tensor of size (Batch Size, ...), where ... are the image dimensions.\n",
    "    : return: A tensor of size (Batch Size, Flattened Image Size).\n",
    "    \"\"\"\n",
    "    tensor_shape = x_tensor.get_shape().as_list()\n",
    "    # Get the length of the flattened dimensions.\n",
    "    flattened_shape = np.array(tensor_shape[1:]).prod()\n",
    "    # Batch size is casted by tf.shape.\n",
    "    return tf.reshape(x_tensor, [tf.shape(x_tensor)[0], flattened_shape])\n",
    "\n",
    "\n",
    "\"\"\"\n",
    "DON'T MODIFY ANYTHING IN THIS CELL THAT IS BELOW THIS LINE\n",
    "\"\"\"\n",
    "tests.test_flatten(flatten)"
   ]
  },
  {
   "cell_type": "markdown",
   "metadata": {},
   "source": [
    "### Fully-Connected Layer\n",
    "Implement the `fully_conn` function to apply a fully connected layer to `x_tensor` with the shape (*Batch Size*, *num_outputs*). Shortcut option: you can use classes from the [TensorFlow Layers](https://www.tensorflow.org/api_docs/python/tf/layers) or [TensorFlow Layers (contrib)](https://www.tensorflow.org/api_guides/python/contrib.layers) packages for this layer. For more of a challenge, only use other TensorFlow packages."
   ]
  },
  {
   "cell_type": "code",
   "execution_count": 11,
   "metadata": {},
   "outputs": [
    {
     "name": "stdout",
     "output_type": "stream",
     "text": [
      "Tests Passed\n"
     ]
    }
   ],
   "source": [
    "def fully_conn(x_tensor, num_outputs):\n",
    "    \"\"\"\n",
    "    Apply a fully connected layer to x_tensor using weight and bias\n",
    "    : x_tensor: A 2-D tensor where the first dimension is batch size.\n",
    "    : num_outputs: The number of output that the new tensor should be.\n",
    "    : return: A 2-D tensor where the second dimension is num_outputs.\n",
    "    \"\"\"\n",
    "    flattened_shape = np.array(x_tensor.get_shape().as_list()[1:]).prod()\n",
    "    # Define trainable variables.\n",
    "    weights = tf.Variable(tf.truncated_normal([flattened_shape, num_outputs], stddev=0.04))\n",
    "    bias = tf.Variable(tf.zeros([num_outputs]))\n",
    "    \n",
    "    # Fully convolution layer.\n",
    "    fc = tf.nn.relu(tf.add(tf.matmul(x_tensor, weights), bias))        \n",
    "    return fc\n",
    "\n",
    "\n",
    "\"\"\"\n",
    "DON'T MODIFY ANYTHING IN THIS CELL THAT IS BELOW THIS LINE\n",
    "\"\"\"\n",
    "tests.test_fully_conn(fully_conn)"
   ]
  },
  {
   "cell_type": "markdown",
   "metadata": {},
   "source": [
    "### Output Layer\n",
    "Implement the `output` function to apply a fully connected layer to `x_tensor` with the shape (*Batch Size*, *num_outputs*). Shortcut option: you can use classes from the [TensorFlow Layers](https://www.tensorflow.org/api_docs/python/tf/layers) or [TensorFlow Layers (contrib)](https://www.tensorflow.org/api_guides/python/contrib.layers) packages for this layer. For more of a challenge, only use other TensorFlow packages.\n",
    "\n",
    "**Note:** Activation, softmax, or cross entropy should **not** be applied to this."
   ]
  },
  {
   "cell_type": "code",
   "execution_count": 12,
   "metadata": {},
   "outputs": [
    {
     "name": "stdout",
     "output_type": "stream",
     "text": [
      "Tests Passed\n"
     ]
    }
   ],
   "source": [
    "def output(x_tensor, num_outputs):\n",
    "    \"\"\"\n",
    "    Apply a output layer to x_tensor using weight and bias\n",
    "    : x_tensor: A 2-D tensor where the first dimension is batch size.\n",
    "    : num_outputs: The number of output that the new tensor should be.\n",
    "    : return: A 2-D tensor where the second dimension is num_outputs.\n",
    "    \"\"\"\n",
    "    flattened_shape = np.array(x_tensor.get_shape().as_list()[1:]).prod()\n",
    "    # Define trainable variables.\n",
    "    weights = tf.Variable(tf.truncated_normal([flattened_shape, num_outputs], stddev=0.04))\n",
    "    bias = tf.Variable(tf.zeros([num_outputs]))\n",
    "    \n",
    "    # Output layer.    \n",
    "    return tf.add(tf.matmul(x_tensor, weights), bias)\n",
    "\n",
    "\n",
    "\"\"\"\n",
    "DON'T MODIFY ANYTHING IN THIS CELL THAT IS BELOW THIS LINE\n",
    "\"\"\"\n",
    "tests.test_output(output)"
   ]
  },
  {
   "cell_type": "markdown",
   "metadata": {},
   "source": [
    "### Create Convolutional Model\n",
    "Implement the function `conv_net` to create a convolutional neural network model. The function takes in a batch of images, `x`, and outputs logits.  Use the layers you created above to create this model:\n",
    "\n",
    "* Apply 1, 2, or 3 Convolution and Max Pool layers\n",
    "* Apply a Flatten Layer\n",
    "* Apply 1, 2, or 3 Fully Connected Layers\n",
    "* Apply an Output Layer\n",
    "* Return the output\n",
    "* Apply [TensorFlow's Dropout](https://www.tensorflow.org/api_docs/python/tf/nn/dropout) to one or more layers in the model using `keep_prob`. "
   ]
  },
  {
   "cell_type": "code",
   "execution_count": 13,
   "metadata": {},
   "outputs": [
    {
     "name": "stdout",
     "output_type": "stream",
     "text": [
      "Neural Network Built!\n"
     ]
    }
   ],
   "source": [
    "def conv_net(x, keep_prob, num_classes=10):\n",
    "    \"\"\"\n",
    "    Create a convolutional neural network model\n",
    "    : x: Placeholder tensor that holds image data.\n",
    "    : keep_prob: Placeholder tensor that hold dropout keep probability.\n",
    "    : return: Tensor that represents logits\n",
    "    \"\"\"\n",
    "    # Network architecture inspired from:\n",
    "    #   https://github.com/tensorflow/models/blob/master/tutorials/image/cifar10/cifar10.py\n",
    "    \n",
    "    # 2 Convoultion and Max Pool Layers applied.\n",
    "    conv = conv2d_maxpool(x,\n",
    "                           conv_num_outputs=64,\n",
    "                           conv_ksize=[5,5],\n",
    "                           conv_strides=[1,1],\n",
    "                           pool_ksize=[3,3],\n",
    "                           pool_strides=[2,2])\n",
    "    \n",
    "    conv = conv2d_maxpool(conv,\n",
    "                          conv_num_outputs=64,\n",
    "                          conv_ksize=[5,5],\n",
    "                          conv_strides=[1,1],\n",
    "                          pool_ksize=[3,3],\n",
    "                          pool_strides=[2,2])\n",
    "    \n",
    "    # Apply a Flatten Layer\n",
    "    flattened_conv = flatten(conv)\n",
    "    \n",
    "    # 2 Fully-Connected Layers.\n",
    "    fc = fully_conn(flattened_conv, 384)\n",
    "    fc = fully_conn(fc, 192)\n",
    "    \n",
    "    # Dropout layer.\n",
    "    fc = tf.nn.dropout(fc, keep_prob)\n",
    "    \n",
    "    # Output Layer.\n",
    "    return output(fc, num_classes)        \n",
    "\n",
    "\"\"\"\n",
    "DON'T MODIFY ANYTHING IN THIS CELL THAT IS BELOW THIS LINE\n",
    "\"\"\"\n",
    "\n",
    "##############################\n",
    "## Build the Neural Network ##\n",
    "##############################\n",
    "\n",
    "# Remove previous weights, bias, inputs, etc..\n",
    "tf.reset_default_graph()\n",
    "\n",
    "# Inputs\n",
    "x = neural_net_image_input((32, 32, 3))\n",
    "y = neural_net_label_input(10)\n",
    "keep_prob = neural_net_keep_prob_input()\n",
    "\n",
    "# Model\n",
    "logits = conv_net(x, keep_prob)\n",
    "\n",
    "# Name logits Tensor, so that is can be loaded from disk after training\n",
    "logits = tf.identity(logits, name='logits')\n",
    "\n",
    "# Loss and Optimizer\n",
    "cost = tf.reduce_mean(tf.nn.softmax_cross_entropy_with_logits(logits=logits, labels=y))\n",
    "optimizer = tf.train.AdamOptimizer().minimize(cost)\n",
    "\n",
    "# Accuracy\n",
    "correct_pred = tf.equal(tf.argmax(logits, 1), tf.argmax(y, 1))\n",
    "accuracy = tf.reduce_mean(tf.cast(correct_pred, tf.float32), name='accuracy')\n",
    "\n",
    "tests.test_conv_net(conv_net)"
   ]
  },
  {
   "cell_type": "markdown",
   "metadata": {},
   "source": [
    "## Train the Neural Network\n",
    "### Single Optimization\n",
    "Implement the function `train_neural_network` to do a single optimization.  The optimization should use `optimizer` to optimize in `session` with a `feed_dict` of the following:\n",
    "* `x` for image input\n",
    "* `y` for labels\n",
    "* `keep_prob` for keep probability for dropout\n",
    "\n",
    "This function will be called for each batch, so `tf.global_variables_initializer()` has already been called.\n",
    "\n",
    "Note: Nothing needs to be returned. This function is only optimizing the neural network."
   ]
  },
  {
   "cell_type": "code",
   "execution_count": 14,
   "metadata": {},
   "outputs": [
    {
     "name": "stdout",
     "output_type": "stream",
     "text": [
      "Tests Passed\n"
     ]
    }
   ],
   "source": [
    "def train_neural_network(session, optimizer, keep_probability, feature_batch, label_batch):\n",
    "    \"\"\"\n",
    "    Optimize the session on a batch of images and labels\n",
    "    : session: Current TensorFlow session\n",
    "    : optimizer: TensorFlow optimizer function\n",
    "    : keep_probability: keep probability\n",
    "    : feature_batch: Batch of Numpy image data\n",
    "    : label_batch: Batch of Numpy label data\n",
    "    \"\"\"\n",
    "    session.run(optimizer, feed_dict={x: feature_batch,\n",
    "                                      y: label_batch,\n",
    "                                      keep_prob: keep_probability})\n",
    "\n",
    "\"\"\"\n",
    "DON'T MODIFY ANYTHING IN THIS CELL THAT IS BELOW THIS LINE\n",
    "\"\"\"\n",
    "tests.test_train_nn(train_neural_network)"
   ]
  },
  {
   "cell_type": "markdown",
   "metadata": {},
   "source": [
    "### Show Stats\n",
    "Implement the function `print_stats` to print loss and validation accuracy.  Use the global variables `valid_features` and `valid_labels` to calculate validation accuracy.  Use a keep probability of `1.0` to calculate the loss and validation accuracy."
   ]
  },
  {
   "cell_type": "code",
   "execution_count": 16,
   "metadata": {
    "collapsed": true
   },
   "outputs": [],
   "source": [
    "def print_stats(session, feature_batch, label_batch, cost, accuracy):\n",
    "    \"\"\"\n",
    "    Print information about loss and validation accuracy\n",
    "    : session: Current TensorFlow session\n",
    "    : feature_batch: Batch of Numpy image data\n",
    "    : label_batch: Batch of Numpy label data\n",
    "    : cost: TensorFlow cost function\n",
    "    : accuracy: TensorFlow accuracy function\n",
    "    \"\"\"\n",
    "    loss = sess.run(cost, feed_dict={x: feature_batch,\n",
    "                                     y: label_batch,\n",
    "                                     keep_prob: 1.})\n",
    "    valid_acc = sess.run(accuracy, feed_dict={x: valid_features,\n",
    "                                              y: valid_labels,\n",
    "                                              keep_prob: 1.})\n",
    "\n",
    "    print('Loss: {:>10.4f} Validation Accuracy: {:.6f}'.format(loss, valid_acc))"
   ]
  },
  {
   "cell_type": "markdown",
   "metadata": {},
   "source": [
    "### Hyperparameters\n",
    "Tune the following parameters:\n",
    "* Set `epochs` to the number of iterations until the network stops learning or start overfitting\n",
    "* Set `batch_size` to the highest number that your machine has memory for.  Most people set them to common sizes of memory:\n",
    " * 64\n",
    " * 128\n",
    " * 256\n",
    " * ...\n",
    "* Set `keep_probability` to the probability of keeping a node using dropout"
   ]
  },
  {
   "cell_type": "code",
   "execution_count": 17,
   "metadata": {
    "collapsed": true
   },
   "outputs": [],
   "source": [
    "epochs = 42\n",
    "batch_size = 256\n",
    "keep_probability = 0.77"
   ]
  },
  {
   "cell_type": "markdown",
   "metadata": {},
   "source": [
    "### Train on a Single CIFAR-10 Batch\n",
    "Instead of training the neural network on all the CIFAR-10 batches of data, let's use a single batch. This should save time while you iterate on the model to get a better accuracy.  Once the final validation accuracy is 50% or greater, run the model on all the data in the next section."
   ]
  },
  {
   "cell_type": "code",
   "execution_count": 18,
   "metadata": {},
   "outputs": [
    {
     "name": "stdout",
     "output_type": "stream",
     "text": [
      "Checking the Training on a Single Batch...\n",
      "Epoch  1, CIFAR-10 Batch 1:  Loss:     2.0044 Validation Accuracy: 0.314600\n",
      "Epoch  2, CIFAR-10 Batch 1:  Loss:     1.7437 Validation Accuracy: 0.385000\n",
      "Epoch  3, CIFAR-10 Batch 1:  Loss:     1.4715 Validation Accuracy: 0.470600\n",
      "Epoch  4, CIFAR-10 Batch 1:  Loss:     1.2451 Validation Accuracy: 0.499400\n",
      "Epoch  5, CIFAR-10 Batch 1:  Loss:     1.0574 Validation Accuracy: 0.481200\n",
      "Epoch  6, CIFAR-10 Batch 1:  Loss:     0.8516 Validation Accuracy: 0.535800\n",
      "Epoch  7, CIFAR-10 Batch 1:  Loss:     0.6679 Validation Accuracy: 0.557800\n",
      "Epoch  8, CIFAR-10 Batch 1:  Loss:     0.5183 Validation Accuracy: 0.564600\n",
      "Epoch  9, CIFAR-10 Batch 1:  Loss:     0.4857 Validation Accuracy: 0.568200\n",
      "Epoch 10, CIFAR-10 Batch 1:  Loss:     0.3664 Validation Accuracy: 0.573400\n",
      "Epoch 11, CIFAR-10 Batch 1:  Loss:     0.2833 Validation Accuracy: 0.594000\n",
      "Epoch 12, CIFAR-10 Batch 1:  Loss:     0.2417 Validation Accuracy: 0.587000\n",
      "Epoch 13, CIFAR-10 Batch 1:  Loss:     0.1916 Validation Accuracy: 0.574800\n",
      "Epoch 14, CIFAR-10 Batch 1:  Loss:     0.1544 Validation Accuracy: 0.606400\n",
      "Epoch 15, CIFAR-10 Batch 1:  Loss:     0.1327 Validation Accuracy: 0.578000\n",
      "Epoch 16, CIFAR-10 Batch 1:  Loss:     0.0959 Validation Accuracy: 0.591200\n",
      "Epoch 17, CIFAR-10 Batch 1:  Loss:     0.1023 Validation Accuracy: 0.584400\n",
      "Epoch 18, CIFAR-10 Batch 1:  Loss:     0.0765 Validation Accuracy: 0.620200\n",
      "Epoch 19, CIFAR-10 Batch 1:  Loss:     0.0577 Validation Accuracy: 0.606000\n",
      "Epoch 20, CIFAR-10 Batch 1:  Loss:     0.0544 Validation Accuracy: 0.584400\n",
      "Epoch 21, CIFAR-10 Batch 1:  Loss:     0.0633 Validation Accuracy: 0.585000\n",
      "Epoch 22, CIFAR-10 Batch 1:  Loss:     0.0349 Validation Accuracy: 0.570600\n",
      "Epoch 23, CIFAR-10 Batch 1:  Loss:     0.0236 Validation Accuracy: 0.598200\n",
      "Epoch 24, CIFAR-10 Batch 1:  Loss:     0.0256 Validation Accuracy: 0.602000\n",
      "Epoch 25, CIFAR-10 Batch 1:  Loss:     0.0167 Validation Accuracy: 0.573200\n",
      "Epoch 26, CIFAR-10 Batch 1:  Loss:     0.0123 Validation Accuracy: 0.594600\n",
      "Epoch 27, CIFAR-10 Batch 1:  Loss:     0.0252 Validation Accuracy: 0.571600\n",
      "Epoch 28, CIFAR-10 Batch 1:  Loss:     0.0083 Validation Accuracy: 0.606600\n",
      "Epoch 29, CIFAR-10 Batch 1:  Loss:     0.0090 Validation Accuracy: 0.609800\n",
      "Epoch 30, CIFAR-10 Batch 1:  Loss:     0.0044 Validation Accuracy: 0.582400\n",
      "Epoch 31, CIFAR-10 Batch 1:  Loss:     0.0135 Validation Accuracy: 0.573200\n",
      "Epoch 32, CIFAR-10 Batch 1:  Loss:     0.0028 Validation Accuracy: 0.587200\n",
      "Epoch 33, CIFAR-10 Batch 1:  Loss:     0.0024 Validation Accuracy: 0.604200\n",
      "Epoch 34, CIFAR-10 Batch 1:  Loss:     0.0078 Validation Accuracy: 0.588600\n",
      "Epoch 35, CIFAR-10 Batch 1:  Loss:     0.0134 Validation Accuracy: 0.573400\n",
      "Epoch 36, CIFAR-10 Batch 1:  Loss:     0.0055 Validation Accuracy: 0.584600\n",
      "Epoch 37, CIFAR-10 Batch 1:  Loss:     0.0004 Validation Accuracy: 0.611400\n",
      "Epoch 38, CIFAR-10 Batch 1:  Loss:     0.0010 Validation Accuracy: 0.598200\n",
      "Epoch 39, CIFAR-10 Batch 1:  Loss:     0.0013 Validation Accuracy: 0.590400\n",
      "Epoch 40, CIFAR-10 Batch 1:  Loss:     0.0020 Validation Accuracy: 0.590800\n",
      "Epoch 41, CIFAR-10 Batch 1:  Loss:     0.0027 Validation Accuracy: 0.596200\n",
      "Epoch 42, CIFAR-10 Batch 1:  Loss:     0.0117 Validation Accuracy: 0.586000\n"
     ]
    }
   ],
   "source": [
    "\"\"\"\n",
    "DON'T MODIFY ANYTHING IN THIS CELL\n",
    "\"\"\"\n",
    "print('Checking the Training on a Single Batch...')\n",
    "with tf.Session() as sess:\n",
    "    # Initializing the variables\n",
    "    sess.run(tf.global_variables_initializer())\n",
    "    \n",
    "    # Training cycle\n",
    "    for epoch in range(epochs):\n",
    "        batch_i = 1\n",
    "        for batch_features, batch_labels in helper.load_preprocess_training_batch(batch_i, batch_size):\n",
    "            train_neural_network(sess, optimizer, keep_probability, batch_features, batch_labels)\n",
    "        print('Epoch {:>2}, CIFAR-10 Batch {}:  '.format(epoch + 1, batch_i), end='')\n",
    "        print_stats(sess, batch_features, batch_labels, cost, accuracy)"
   ]
  },
  {
   "cell_type": "markdown",
   "metadata": {},
   "source": [
    "### Fully Train the Model\n",
    "Now that you got a good accuracy with a single CIFAR-10 batch, try it with all five batches."
   ]
  },
  {
   "cell_type": "code",
   "execution_count": 19,
   "metadata": {},
   "outputs": [
    {
     "name": "stdout",
     "output_type": "stream",
     "text": [
      "Training...\n",
      "Epoch  1, CIFAR-10 Batch 1:  Loss:     2.0689 Validation Accuracy: 0.338000\n",
      "Epoch  1, CIFAR-10 Batch 2:  Loss:     1.5960 Validation Accuracy: 0.374400\n",
      "Epoch  1, CIFAR-10 Batch 3:  Loss:     1.3609 Validation Accuracy: 0.465200\n",
      "Epoch  1, CIFAR-10 Batch 4:  Loss:     1.3942 Validation Accuracy: 0.454800\n",
      "Epoch  1, CIFAR-10 Batch 5:  Loss:     1.3318 Validation Accuracy: 0.515000\n",
      "Epoch  2, CIFAR-10 Batch 1:  Loss:     1.4020 Validation Accuracy: 0.521200\n",
      "Epoch  2, CIFAR-10 Batch 2:  Loss:     1.0894 Validation Accuracy: 0.538200\n",
      "Epoch  2, CIFAR-10 Batch 3:  Loss:     0.8866 Validation Accuracy: 0.561400\n",
      "Epoch  2, CIFAR-10 Batch 4:  Loss:     1.0494 Validation Accuracy: 0.567000\n",
      "Epoch  2, CIFAR-10 Batch 5:  Loss:     0.9931 Validation Accuracy: 0.578200\n",
      "Epoch  3, CIFAR-10 Batch 1:  Loss:     0.9730 Validation Accuracy: 0.611800\n",
      "Epoch  3, CIFAR-10 Batch 2:  Loss:     0.7701 Validation Accuracy: 0.589200\n",
      "Epoch  3, CIFAR-10 Batch 3:  Loss:     0.5399 Validation Accuracy: 0.633000\n",
      "Epoch  3, CIFAR-10 Batch 4:  Loss:     0.7672 Validation Accuracy: 0.639200\n",
      "Epoch  3, CIFAR-10 Batch 5:  Loss:     0.6504 Validation Accuracy: 0.617600\n",
      "Epoch  4, CIFAR-10 Batch 1:  Loss:     0.6923 Validation Accuracy: 0.658600\n",
      "Epoch  4, CIFAR-10 Batch 2:  Loss:     0.4989 Validation Accuracy: 0.646400\n",
      "Epoch  4, CIFAR-10 Batch 3:  Loss:     0.3666 Validation Accuracy: 0.646600\n",
      "Epoch  4, CIFAR-10 Batch 4:  Loss:     0.4620 Validation Accuracy: 0.681600\n",
      "Epoch  4, CIFAR-10 Batch 5:  Loss:     0.3974 Validation Accuracy: 0.677000\n",
      "Epoch  5, CIFAR-10 Batch 1:  Loss:     0.5135 Validation Accuracy: 0.686400\n",
      "Epoch  5, CIFAR-10 Batch 2:  Loss:     0.2813 Validation Accuracy: 0.683600\n",
      "Epoch  5, CIFAR-10 Batch 3:  Loss:     0.2516 Validation Accuracy: 0.685000\n",
      "Epoch  5, CIFAR-10 Batch 4:  Loss:     0.3122 Validation Accuracy: 0.698000\n",
      "Epoch  5, CIFAR-10 Batch 5:  Loss:     0.2955 Validation Accuracy: 0.678800\n",
      "Epoch  6, CIFAR-10 Batch 1:  Loss:     0.3254 Validation Accuracy: 0.700600\n",
      "Epoch  6, CIFAR-10 Batch 2:  Loss:     0.2391 Validation Accuracy: 0.688200\n",
      "Epoch  6, CIFAR-10 Batch 3:  Loss:     0.1916 Validation Accuracy: 0.700800\n",
      "Epoch  6, CIFAR-10 Batch 4:  Loss:     0.2622 Validation Accuracy: 0.699400\n",
      "Epoch  6, CIFAR-10 Batch 5:  Loss:     0.2025 Validation Accuracy: 0.689000\n",
      "Epoch  7, CIFAR-10 Batch 1:  Loss:     0.1938 Validation Accuracy: 0.703400\n",
      "Epoch  7, CIFAR-10 Batch 2:  Loss:     0.1601 Validation Accuracy: 0.704200\n",
      "Epoch  7, CIFAR-10 Batch 3:  Loss:     0.1429 Validation Accuracy: 0.725400\n",
      "Epoch  7, CIFAR-10 Batch 4:  Loss:     0.1696 Validation Accuracy: 0.716000\n",
      "Epoch  7, CIFAR-10 Batch 5:  Loss:     0.1536 Validation Accuracy: 0.715600\n",
      "Epoch  8, CIFAR-10 Batch 1:  Loss:     0.1370 Validation Accuracy: 0.711600\n",
      "Epoch  8, CIFAR-10 Batch 2:  Loss:     0.1327 Validation Accuracy: 0.702200\n",
      "Epoch  8, CIFAR-10 Batch 3:  Loss:     0.1099 Validation Accuracy: 0.707800\n",
      "Epoch  8, CIFAR-10 Batch 4:  Loss:     0.1389 Validation Accuracy: 0.720800\n",
      "Epoch  8, CIFAR-10 Batch 5:  Loss:     0.1030 Validation Accuracy: 0.715200\n",
      "Epoch  9, CIFAR-10 Batch 1:  Loss:     0.1083 Validation Accuracy: 0.715000\n",
      "Epoch  9, CIFAR-10 Batch 2:  Loss:     0.1136 Validation Accuracy: 0.711600\n",
      "Epoch  9, CIFAR-10 Batch 3:  Loss:     0.0648 Validation Accuracy: 0.717200\n",
      "Epoch  9, CIFAR-10 Batch 4:  Loss:     0.1116 Validation Accuracy: 0.705000\n",
      "Epoch  9, CIFAR-10 Batch 5:  Loss:     0.0751 Validation Accuracy: 0.713800\n",
      "Epoch 10, CIFAR-10 Batch 1:  Loss:     0.1035 Validation Accuracy: 0.721600\n",
      "Epoch 10, CIFAR-10 Batch 2:  Loss:     0.0936 Validation Accuracy: 0.702200\n",
      "Epoch 10, CIFAR-10 Batch 3:  Loss:     0.0740 Validation Accuracy: 0.710800\n",
      "Epoch 10, CIFAR-10 Batch 4:  Loss:     0.0782 Validation Accuracy: 0.730200\n",
      "Epoch 10, CIFAR-10 Batch 5:  Loss:     0.0661 Validation Accuracy: 0.699200\n",
      "Epoch 11, CIFAR-10 Batch 1:  Loss:     0.0748 Validation Accuracy: 0.719800\n",
      "Epoch 11, CIFAR-10 Batch 2:  Loss:     0.0526 Validation Accuracy: 0.716600\n",
      "Epoch 11, CIFAR-10 Batch 3:  Loss:     0.0754 Validation Accuracy: 0.699600\n",
      "Epoch 11, CIFAR-10 Batch 4:  Loss:     0.0878 Validation Accuracy: 0.715000\n",
      "Epoch 11, CIFAR-10 Batch 5:  Loss:     0.0330 Validation Accuracy: 0.715000\n",
      "Epoch 12, CIFAR-10 Batch 1:  Loss:     0.0395 Validation Accuracy: 0.715400\n",
      "Epoch 12, CIFAR-10 Batch 2:  Loss:     0.0399 Validation Accuracy: 0.714400\n",
      "Epoch 12, CIFAR-10 Batch 3:  Loss:     0.0335 Validation Accuracy: 0.715000\n",
      "Epoch 12, CIFAR-10 Batch 4:  Loss:     0.0606 Validation Accuracy: 0.720200\n",
      "Epoch 12, CIFAR-10 Batch 5:  Loss:     0.0404 Validation Accuracy: 0.703000\n",
      "Epoch 13, CIFAR-10 Batch 1:  Loss:     0.0492 Validation Accuracy: 0.717200\n",
      "Epoch 13, CIFAR-10 Batch 2:  Loss:     0.0398 Validation Accuracy: 0.706800\n",
      "Epoch 13, CIFAR-10 Batch 3:  Loss:     0.0226 Validation Accuracy: 0.718400\n",
      "Epoch 13, CIFAR-10 Batch 4:  Loss:     0.0676 Validation Accuracy: 0.709800\n",
      "Epoch 13, CIFAR-10 Batch 5:  Loss:     0.0339 Validation Accuracy: 0.677800\n",
      "Epoch 14, CIFAR-10 Batch 1:  Loss:     0.0270 Validation Accuracy: 0.725600\n",
      "Epoch 14, CIFAR-10 Batch 2:  Loss:     0.0213 Validation Accuracy: 0.712600\n",
      "Epoch 14, CIFAR-10 Batch 3:  Loss:     0.0236 Validation Accuracy: 0.716000\n",
      "Epoch 14, CIFAR-10 Batch 4:  Loss:     0.0267 Validation Accuracy: 0.725000\n",
      "Epoch 14, CIFAR-10 Batch 5:  Loss:     0.0134 Validation Accuracy: 0.706000\n",
      "Epoch 15, CIFAR-10 Batch 1:  Loss:     0.0253 Validation Accuracy: 0.705400\n",
      "Epoch 15, CIFAR-10 Batch 2:  Loss:     0.0229 Validation Accuracy: 0.719800\n",
      "Epoch 15, CIFAR-10 Batch 3:  Loss:     0.0277 Validation Accuracy: 0.696000\n",
      "Epoch 15, CIFAR-10 Batch 4:  Loss:     0.0139 Validation Accuracy: 0.730800\n",
      "Epoch 15, CIFAR-10 Batch 5:  Loss:     0.0096 Validation Accuracy: 0.716600\n",
      "Epoch 16, CIFAR-10 Batch 1:  Loss:     0.0133 Validation Accuracy: 0.714600\n",
      "Epoch 16, CIFAR-10 Batch 2:  Loss:     0.0187 Validation Accuracy: 0.704400\n",
      "Epoch 16, CIFAR-10 Batch 3:  Loss:     0.0171 Validation Accuracy: 0.726400\n",
      "Epoch 16, CIFAR-10 Batch 4:  Loss:     0.0093 Validation Accuracy: 0.727400\n",
      "Epoch 16, CIFAR-10 Batch 5:  Loss:     0.0217 Validation Accuracy: 0.708600\n",
      "Epoch 17, CIFAR-10 Batch 1:  Loss:     0.0117 Validation Accuracy: 0.722600\n",
      "Epoch 17, CIFAR-10 Batch 2:  Loss:     0.0198 Validation Accuracy: 0.695200\n",
      "Epoch 17, CIFAR-10 Batch 3:  Loss:     0.0233 Validation Accuracy: 0.712200\n",
      "Epoch 17, CIFAR-10 Batch 4:  Loss:     0.0149 Validation Accuracy: 0.712200\n",
      "Epoch 17, CIFAR-10 Batch 5:  Loss:     0.0064 Validation Accuracy: 0.719800\n",
      "Epoch 18, CIFAR-10 Batch 1:  Loss:     0.0049 Validation Accuracy: 0.724400\n",
      "Epoch 18, CIFAR-10 Batch 2:  Loss:     0.0184 Validation Accuracy: 0.697000\n",
      "Epoch 18, CIFAR-10 Batch 3:  Loss:     0.0101 Validation Accuracy: 0.706200\n",
      "Epoch 18, CIFAR-10 Batch 4:  Loss:     0.0104 Validation Accuracy: 0.717600\n",
      "Epoch 18, CIFAR-10 Batch 5:  Loss:     0.0061 Validation Accuracy: 0.720400\n",
      "Epoch 19, CIFAR-10 Batch 1:  Loss:     0.0039 Validation Accuracy: 0.717800\n",
      "Epoch 19, CIFAR-10 Batch 2:  Loss:     0.0126 Validation Accuracy: 0.709600\n",
      "Epoch 19, CIFAR-10 Batch 3:  Loss:     0.0048 Validation Accuracy: 0.722600\n",
      "Epoch 19, CIFAR-10 Batch 4:  Loss:     0.0072 Validation Accuracy: 0.732800\n",
      "Epoch 19, CIFAR-10 Batch 5:  Loss:     0.0059 Validation Accuracy: 0.721800\n",
      "Epoch 20, CIFAR-10 Batch 1:  Loss:     0.0024 Validation Accuracy: 0.723000\n",
      "Epoch 20, CIFAR-10 Batch 2:  Loss:     0.0033 Validation Accuracy: 0.691400\n",
      "Epoch 20, CIFAR-10 Batch 3:  Loss:     0.0040 Validation Accuracy: 0.719000\n",
      "Epoch 20, CIFAR-10 Batch 4:  Loss:     0.0106 Validation Accuracy: 0.715200\n",
      "Epoch 20, CIFAR-10 Batch 5:  Loss:     0.0044 Validation Accuracy: 0.712800\n",
      "Epoch 21, CIFAR-10 Batch 1:  Loss:     0.0047 Validation Accuracy: 0.728000\n",
      "Epoch 21, CIFAR-10 Batch 2:  Loss:     0.0024 Validation Accuracy: 0.699200\n",
      "Epoch 21, CIFAR-10 Batch 3:  Loss:     0.0100 Validation Accuracy: 0.714600\n",
      "Epoch 21, CIFAR-10 Batch 4:  Loss:     0.0120 Validation Accuracy: 0.708400\n",
      "Epoch 21, CIFAR-10 Batch 5:  Loss:     0.0020 Validation Accuracy: 0.731400\n",
      "Epoch 22, CIFAR-10 Batch 1:  Loss:     0.0024 Validation Accuracy: 0.727200\n",
      "Epoch 22, CIFAR-10 Batch 2:  Loss:     0.0033 Validation Accuracy: 0.688800\n",
      "Epoch 22, CIFAR-10 Batch 3:  Loss:     0.0029 Validation Accuracy: 0.716600\n"
     ]
    },
    {
     "name": "stdout",
     "output_type": "stream",
     "text": [
      "Epoch 22, CIFAR-10 Batch 4:  Loss:     0.0024 Validation Accuracy: 0.719200\n",
      "Epoch 22, CIFAR-10 Batch 5:  Loss:     0.0053 Validation Accuracy: 0.736400\n",
      "Epoch 23, CIFAR-10 Batch 1:  Loss:     0.0040 Validation Accuracy: 0.708600\n",
      "Epoch 23, CIFAR-10 Batch 2:  Loss:     0.0023 Validation Accuracy: 0.709200\n",
      "Epoch 23, CIFAR-10 Batch 3:  Loss:     0.0054 Validation Accuracy: 0.706200\n",
      "Epoch 23, CIFAR-10 Batch 4:  Loss:     0.0011 Validation Accuracy: 0.723000\n",
      "Epoch 23, CIFAR-10 Batch 5:  Loss:     0.0046 Validation Accuracy: 0.734200\n",
      "Epoch 24, CIFAR-10 Batch 1:  Loss:     0.0015 Validation Accuracy: 0.719200\n",
      "Epoch 24, CIFAR-10 Batch 2:  Loss:     0.0056 Validation Accuracy: 0.708000\n",
      "Epoch 24, CIFAR-10 Batch 3:  Loss:     0.0077 Validation Accuracy: 0.726600\n",
      "Epoch 24, CIFAR-10 Batch 4:  Loss:     0.0023 Validation Accuracy: 0.727800\n",
      "Epoch 24, CIFAR-10 Batch 5:  Loss:     0.0024 Validation Accuracy: 0.722800\n",
      "Epoch 25, CIFAR-10 Batch 1:  Loss:     0.0022 Validation Accuracy: 0.740600\n",
      "Epoch 25, CIFAR-10 Batch 2:  Loss:     0.0014 Validation Accuracy: 0.718200\n",
      "Epoch 25, CIFAR-10 Batch 3:  Loss:     0.0015 Validation Accuracy: 0.733200\n",
      "Epoch 25, CIFAR-10 Batch 4:  Loss:     0.0013 Validation Accuracy: 0.724600\n",
      "Epoch 25, CIFAR-10 Batch 5:  Loss:     0.0006 Validation Accuracy: 0.742400\n",
      "Epoch 26, CIFAR-10 Batch 1:  Loss:     0.0119 Validation Accuracy: 0.736400\n",
      "Epoch 26, CIFAR-10 Batch 2:  Loss:     0.0030 Validation Accuracy: 0.710400\n",
      "Epoch 26, CIFAR-10 Batch 3:  Loss:     0.0039 Validation Accuracy: 0.730200\n",
      "Epoch 26, CIFAR-10 Batch 4:  Loss:     0.0002 Validation Accuracy: 0.725000\n",
      "Epoch 26, CIFAR-10 Batch 5:  Loss:     0.0029 Validation Accuracy: 0.725400\n",
      "Epoch 27, CIFAR-10 Batch 1:  Loss:     0.0014 Validation Accuracy: 0.726200\n",
      "Epoch 27, CIFAR-10 Batch 2:  Loss:     0.0011 Validation Accuracy: 0.711800\n",
      "Epoch 27, CIFAR-10 Batch 3:  Loss:     0.0017 Validation Accuracy: 0.736200\n",
      "Epoch 27, CIFAR-10 Batch 4:  Loss:     0.0005 Validation Accuracy: 0.729000\n",
      "Epoch 27, CIFAR-10 Batch 5:  Loss:     0.0039 Validation Accuracy: 0.722200\n",
      "Epoch 28, CIFAR-10 Batch 1:  Loss:     0.0017 Validation Accuracy: 0.724200\n",
      "Epoch 28, CIFAR-10 Batch 2:  Loss:     0.0005 Validation Accuracy: 0.722000\n",
      "Epoch 28, CIFAR-10 Batch 3:  Loss:     0.0003 Validation Accuracy: 0.734600\n",
      "Epoch 28, CIFAR-10 Batch 4:  Loss:     0.0014 Validation Accuracy: 0.730200\n",
      "Epoch 28, CIFAR-10 Batch 5:  Loss:     0.0003 Validation Accuracy: 0.726600\n",
      "Epoch 29, CIFAR-10 Batch 1:  Loss:     0.0008 Validation Accuracy: 0.717600\n",
      "Epoch 29, CIFAR-10 Batch 2:  Loss:     0.0014 Validation Accuracy: 0.721600\n",
      "Epoch 29, CIFAR-10 Batch 3:  Loss:     0.0007 Validation Accuracy: 0.734200\n",
      "Epoch 29, CIFAR-10 Batch 4:  Loss:     0.0015 Validation Accuracy: 0.731600\n",
      "Epoch 29, CIFAR-10 Batch 5:  Loss:     0.0001 Validation Accuracy: 0.726800\n",
      "Epoch 30, CIFAR-10 Batch 1:  Loss:     0.0023 Validation Accuracy: 0.720000\n",
      "Epoch 30, CIFAR-10 Batch 2:  Loss:     0.0010 Validation Accuracy: 0.719200\n",
      "Epoch 30, CIFAR-10 Batch 3:  Loss:     0.0007 Validation Accuracy: 0.719000\n",
      "Epoch 30, CIFAR-10 Batch 4:  Loss:     0.0043 Validation Accuracy: 0.718000\n",
      "Epoch 30, CIFAR-10 Batch 5:  Loss:     0.0012 Validation Accuracy: 0.725600\n",
      "Epoch 31, CIFAR-10 Batch 1:  Loss:     0.0003 Validation Accuracy: 0.724400\n",
      "Epoch 31, CIFAR-10 Batch 2:  Loss:     0.0085 Validation Accuracy: 0.726000\n",
      "Epoch 31, CIFAR-10 Batch 3:  Loss:     0.0005 Validation Accuracy: 0.718600\n",
      "Epoch 31, CIFAR-10 Batch 4:  Loss:     0.0079 Validation Accuracy: 0.728000\n",
      "Epoch 31, CIFAR-10 Batch 5:  Loss:     0.0013 Validation Accuracy: 0.727800\n",
      "Epoch 32, CIFAR-10 Batch 1:  Loss:     0.0005 Validation Accuracy: 0.720600\n",
      "Epoch 32, CIFAR-10 Batch 2:  Loss:     0.0021 Validation Accuracy: 0.727000\n",
      "Epoch 32, CIFAR-10 Batch 3:  Loss:     0.0002 Validation Accuracy: 0.711600\n",
      "Epoch 32, CIFAR-10 Batch 4:  Loss:     0.0013 Validation Accuracy: 0.732200\n",
      "Epoch 32, CIFAR-10 Batch 5:  Loss:     0.0004 Validation Accuracy: 0.722800\n",
      "Epoch 33, CIFAR-10 Batch 1:  Loss:     0.0005 Validation Accuracy: 0.726400\n",
      "Epoch 33, CIFAR-10 Batch 2:  Loss:     0.0005 Validation Accuracy: 0.727000\n",
      "Epoch 33, CIFAR-10 Batch 3:  Loss:     0.0004 Validation Accuracy: 0.723200\n",
      "Epoch 33, CIFAR-10 Batch 4:  Loss:     0.0025 Validation Accuracy: 0.716600\n",
      "Epoch 33, CIFAR-10 Batch 5:  Loss:     0.0022 Validation Accuracy: 0.714400\n",
      "Epoch 34, CIFAR-10 Batch 1:  Loss:     0.0005 Validation Accuracy: 0.725800\n",
      "Epoch 34, CIFAR-10 Batch 2:  Loss:     0.0021 Validation Accuracy: 0.725800\n",
      "Epoch 34, CIFAR-10 Batch 3:  Loss:     0.0003 Validation Accuracy: 0.733200\n",
      "Epoch 34, CIFAR-10 Batch 4:  Loss:     0.0016 Validation Accuracy: 0.719600\n",
      "Epoch 34, CIFAR-10 Batch 5:  Loss:     0.0008 Validation Accuracy: 0.734600\n",
      "Epoch 35, CIFAR-10 Batch 1:  Loss:     0.0013 Validation Accuracy: 0.723400\n",
      "Epoch 35, CIFAR-10 Batch 2:  Loss:     0.0040 Validation Accuracy: 0.717200\n",
      "Epoch 35, CIFAR-10 Batch 3:  Loss:     0.0044 Validation Accuracy: 0.721800\n",
      "Epoch 35, CIFAR-10 Batch 4:  Loss:     0.0007 Validation Accuracy: 0.727600\n",
      "Epoch 35, CIFAR-10 Batch 5:  Loss:     0.0004 Validation Accuracy: 0.722000\n",
      "Epoch 36, CIFAR-10 Batch 1:  Loss:     0.0007 Validation Accuracy: 0.723800\n",
      "Epoch 36, CIFAR-10 Batch 2:  Loss:     0.0002 Validation Accuracy: 0.727400\n",
      "Epoch 36, CIFAR-10 Batch 3:  Loss:     0.0009 Validation Accuracy: 0.724400\n",
      "Epoch 36, CIFAR-10 Batch 4:  Loss:     0.0025 Validation Accuracy: 0.722000\n",
      "Epoch 36, CIFAR-10 Batch 5:  Loss:     0.0007 Validation Accuracy: 0.712800\n",
      "Epoch 37, CIFAR-10 Batch 1:  Loss:     0.0008 Validation Accuracy: 0.725800\n",
      "Epoch 37, CIFAR-10 Batch 2:  Loss:     0.0002 Validation Accuracy: 0.724400\n",
      "Epoch 37, CIFAR-10 Batch 3:  Loss:     0.0014 Validation Accuracy: 0.731600\n",
      "Epoch 37, CIFAR-10 Batch 4:  Loss:     0.0004 Validation Accuracy: 0.724000\n",
      "Epoch 37, CIFAR-10 Batch 5:  Loss:     0.0001 Validation Accuracy: 0.734400\n",
      "Epoch 38, CIFAR-10 Batch 1:  Loss:     0.0009 Validation Accuracy: 0.714400\n",
      "Epoch 38, CIFAR-10 Batch 2:  Loss:     0.0014 Validation Accuracy: 0.710600\n",
      "Epoch 38, CIFAR-10 Batch 3:  Loss:     0.0014 Validation Accuracy: 0.723600\n",
      "Epoch 38, CIFAR-10 Batch 4:  Loss:     0.0005 Validation Accuracy: 0.722600\n",
      "Epoch 38, CIFAR-10 Batch 5:  Loss:     0.0002 Validation Accuracy: 0.727200\n",
      "Epoch 39, CIFAR-10 Batch 1:  Loss:     0.0027 Validation Accuracy: 0.716200\n",
      "Epoch 39, CIFAR-10 Batch 2:  Loss:     0.0002 Validation Accuracy: 0.733000\n",
      "Epoch 39, CIFAR-10 Batch 3:  Loss:     0.0002 Validation Accuracy: 0.732400\n",
      "Epoch 39, CIFAR-10 Batch 4:  Loss:     0.0007 Validation Accuracy: 0.731000\n",
      "Epoch 39, CIFAR-10 Batch 5:  Loss:     0.0003 Validation Accuracy: 0.732200\n",
      "Epoch 40, CIFAR-10 Batch 1:  Loss:     0.0015 Validation Accuracy: 0.735400\n",
      "Epoch 40, CIFAR-10 Batch 2:  Loss:     0.0002 Validation Accuracy: 0.728200\n",
      "Epoch 40, CIFAR-10 Batch 3:  Loss:     0.0002 Validation Accuracy: 0.725400\n",
      "Epoch 40, CIFAR-10 Batch 4:  Loss:     0.0003 Validation Accuracy: 0.725000\n",
      "Epoch 40, CIFAR-10 Batch 5:  Loss:     0.0001 Validation Accuracy: 0.717800\n",
      "Epoch 41, CIFAR-10 Batch 1:  Loss:     0.0003 Validation Accuracy: 0.724600\n",
      "Epoch 41, CIFAR-10 Batch 2:  Loss:     0.0003 Validation Accuracy: 0.713000\n",
      "Epoch 41, CIFAR-10 Batch 3:  Loss:     0.0003 Validation Accuracy: 0.719600\n",
      "Epoch 41, CIFAR-10 Batch 4:  Loss:     0.0014 Validation Accuracy: 0.714000\n",
      "Epoch 41, CIFAR-10 Batch 5:  Loss:     0.0001 Validation Accuracy: 0.728200\n",
      "Epoch 42, CIFAR-10 Batch 1:  Loss:     0.0003 Validation Accuracy: 0.729000\n",
      "Epoch 42, CIFAR-10 Batch 2:  Loss:     0.0007 Validation Accuracy: 0.718600\n",
      "Epoch 42, CIFAR-10 Batch 3:  Loss:     0.0003 Validation Accuracy: 0.734400\n",
      "Epoch 42, CIFAR-10 Batch 4:  Loss:     0.0003 Validation Accuracy: 0.715400\n",
      "Epoch 42, CIFAR-10 Batch 5:  Loss:     0.0002 Validation Accuracy: 0.718600\n"
     ]
    }
   ],
   "source": [
    "\"\"\"\n",
    "DON'T MODIFY ANYTHING IN THIS CELL\n",
    "\"\"\"\n",
    "save_model_path = './image_classification'\n",
    "\n",
    "print('Training...')\n",
    "with tf.Session() as sess:\n",
    "    # Initializing the variables\n",
    "    sess.run(tf.global_variables_initializer())\n",
    "    \n",
    "    # Training cycle\n",
    "    for epoch in range(epochs):\n",
    "        # Loop over all batches\n",
    "        n_batches = 5\n",
    "        for batch_i in range(1, n_batches + 1):\n",
    "            for batch_features, batch_labels in helper.load_preprocess_training_batch(batch_i, batch_size):\n",
    "                train_neural_network(sess, optimizer, keep_probability, batch_features, batch_labels)\n",
    "            print('Epoch {:>2}, CIFAR-10 Batch {}:  '.format(epoch + 1, batch_i), end='')\n",
    "            print_stats(sess, batch_features, batch_labels, cost, accuracy)\n",
    "            \n",
    "    # Save Model\n",
    "    saver = tf.train.Saver()\n",
    "    \n",
    "    save_path = saver.save(sess, save_model_path)"
   ]
  },
  {
   "cell_type": "markdown",
   "metadata": {},
   "source": [
    "# Checkpoint\n",
    "The model has been saved to disk.\n",
    "## Test Model\n",
    "Test your model against the test dataset.  This will be your final accuracy. You should have an accuracy greater than 50%. If you don't, keep tweaking the model architecture and parameters."
   ]
  },
  {
   "cell_type": "code",
   "execution_count": 20,
   "metadata": {},
   "outputs": [
    {
     "name": "stdout",
     "output_type": "stream",
     "text": [
      "INFO:tensorflow:Restoring parameters from ./image_classification\n",
      "Testing Accuracy: 0.7072265625\n",
      "\n"
     ]
    },
    {
     "data": {
      "image/png": "[encoded data removed]",
      "text/plain": [
       "<matplotlib.figure.Figure at 0x1191f5cc0>"
      ]
     },
     "metadata": {
      "image/png": {
       "height": 319,
       "width": 349
      }
     },
     "output_type": "display_data"
    }
   ],
   "source": [
    "\"\"\"\n",
    "DON'T MODIFY ANYTHING IN THIS CELL\n",
    "\"\"\"\n",
    "%matplotlib inline\n",
    "%config InlineBackend.figure_format = 'retina'\n",
    "\n",
    "import tensorflow as tf\n",
    "import pickle\n",
    "import helper\n",
    "import random\n",
    "\n",
    "# Set batch size if not already set\n",
    "try:\n",
    "    if batch_size:\n",
    "        pass\n",
    "except NameError:\n",
    "    batch_size = 64\n",
    "\n",
    "save_model_path = './image_classification'\n",
    "n_samples = 4\n",
    "top_n_predictions = 3\n",
    "\n",
    "def test_model():\n",
    "    \"\"\"\n",
    "    Test the saved model against the test dataset\n",
    "    \"\"\"\n",
    "\n",
    "    test_features, test_labels = pickle.load(open('preprocess_test.p', mode='rb'))\n",
    "    loaded_graph = tf.Graph()\n",
    "\n",
    "    with tf.Session(graph=loaded_graph) as sess:\n",
    "        # Load model\n",
    "        loader = tf.train.import_meta_graph(save_model_path + '.meta')\n",
    "        loader.restore(sess, save_model_path)\n",
    "\n",
    "        # Get Tensors from loaded model\n",
    "        loaded_x = loaded_graph.get_tensor_by_name('x:0')\n",
    "        loaded_y = loaded_graph.get_tensor_by_name('y:0')\n",
    "        loaded_keep_prob = loaded_graph.get_tensor_by_name('keep_prob:0')\n",
    "        loaded_logits = loaded_graph.get_tensor_by_name('logits:0')\n",
    "        loaded_acc = loaded_graph.get_tensor_by_name('accuracy:0')\n",
    "        \n",
    "        # Get accuracy in batches for memory limitations\n",
    "        test_batch_acc_total = 0\n",
    "        test_batch_count = 0\n",
    "        \n",
    "        for test_feature_batch, test_label_batch in helper.batch_features_labels(test_features, test_labels, batch_size):\n",
    "            test_batch_acc_total += sess.run(\n",
    "                loaded_acc,\n",
    "                feed_dict={loaded_x: test_feature_batch, loaded_y: test_label_batch, loaded_keep_prob: 1.0})\n",
    "            test_batch_count += 1\n",
    "\n",
    "        print('Testing Accuracy: {}\\n'.format(test_batch_acc_total/test_batch_count))\n",
    "\n",
    "        # Print Random Samples\n",
    "        random_test_features, random_test_labels = tuple(zip(*random.sample(list(zip(test_features, test_labels)), n_samples)))\n",
    "        random_test_predictions = sess.run(\n",
    "            tf.nn.top_k(tf.nn.softmax(loaded_logits), top_n_predictions),\n",
    "            feed_dict={loaded_x: random_test_features, loaded_y: random_test_labels, loaded_keep_prob: 1.0})\n",
    "        helper.display_image_predictions(random_test_features, random_test_labels, random_test_predictions)\n",
    "\n",
    "\n",
    "test_model()"
   ]
  },
  {
   "cell_type": "markdown",
   "metadata": {},
   "source": [
    "## Why 50-80% Accuracy?\n",
    "You might be wondering why you can't get an accuracy any higher. First things first, 50% isn't bad for a simple CNN.  Pure guessing would get you 10% accuracy. However, you might notice people are getting scores [well above 80%](http://rodrigob.github.io/are_we_there_yet/build/classification_datasets_results.html#43494641522d3130).  That's because we haven't taught you all there is to know about neural networks. We still need to cover a few more techniques.\n",
    "## Submitting This Project\n",
    "When submitting this project, make sure to run all the cells before saving the notebook.  Save the notebook file as \"dlnd_image_classification.ipynb\" and save it as a HTML file under \"File\" -> \"Download as\".  Include the \"helper.py\" and \"problem_unittests.py\" files in your submission."
   ]
  },
  {
   "cell_type": "code",
   "execution_count": null,
   "metadata": {
    "collapsed": true
   },
   "outputs": [],
   "source": []
  }
 ],
 "metadata": {
  "anaconda-cloud": {},
  "kernelspec": {
   "display_name": "Python 3",
   "language": "python",
   "name": "python3"
  },
  "language_info": {
   "codemirror_mode": {
    "name": "ipython",
    "version": 3
   },
   "file_extension": ".py",
   "mimetype": "text/x-python",
   "name": "python",
   "nbconvert_exporter": "python",
   "pygments_lexer": "ipython3",
   "version": "3.6.1"
  }
 },
 "nbformat": 4,
 "nbformat_minor": 1
}
